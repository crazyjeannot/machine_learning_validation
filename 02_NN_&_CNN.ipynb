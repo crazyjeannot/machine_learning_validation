{
 "cells": [
  {
   "cell_type": "code",
   "execution_count": 4,
   "id": "db513a28",
   "metadata": {},
   "outputs": [],
   "source": [
    "# TensorFlow and tf.keras\n",
    "import tensorflow as tf\n",
    "\n",
    "# Helper libraries\n",
    "import numpy as np\n",
    "import matplotlib.pyplot as plt\n",
    "import os\n",
    "import pandas as pd"
   ]
  },
  {
   "cell_type": "markdown",
   "id": "0d62f2a2",
   "metadata": {},
   "source": [
    "## Import Digits"
   ]
  },
  {
   "cell_type": "markdown",
   "id": "c3991eb7",
   "metadata": {},
   "source": [
    "### Load labels train & test"
   ]
  },
  {
   "cell_type": "code",
   "execution_count": 2,
   "id": "d71fd6f4",
   "metadata": {},
   "outputs": [],
   "source": [
    "y_train = np.loadtxt(\"../train_labels.txt\",dtype=str)\n",
    "y_test = np.loadtxt(\"../test_labels.txt\",dtype=str)"
   ]
  },
  {
   "cell_type": "markdown",
   "id": "43609977",
   "metadata": {},
   "source": [
    "### Load data train & test"
   ]
  },
  {
   "cell_type": "code",
   "execution_count": 5,
   "id": "fe643748",
   "metadata": {},
   "outputs": [],
   "source": [
    "filenames_train = [x for x in os.listdir(\"../train_voyelles\") if x[0]==\"v\"]\n",
    "filenames_train.sort()\n",
    "filenames_test = [x for x in os.listdir(\"../test_voyelles\") if x[0]==\"v\"]\n",
    "filenames_test.sort()"
   ]
  },
  {
   "cell_type": "code",
   "execution_count": 6,
   "id": "a892dfe0",
   "metadata": {},
   "outputs": [],
   "source": [
    "x_train = []\n",
    "for f in filenames_train:\n",
    "  input = np.loadtxt(\"../train_voyelles/\"+f, dtype='i', delimiter='\\t')\n",
    "  x_train.append(input)\n",
    "x_train = np.asarray(x_train)"
   ]
  },
  {
   "cell_type": "code",
   "execution_count": 7,
   "id": "e7ae6cdc",
   "metadata": {},
   "outputs": [],
   "source": [
    "x_test = []\n",
    "for f in filenames_test:\n",
    "  input = np.loadtxt(\"../test_voyelles/\"+f, dtype='i', delimiter='\\t')\n",
    "  x_test.append(input)\n",
    "x_test = np.asarray(x_test)"
   ]
  },
  {
   "cell_type": "code",
   "execution_count": 8,
   "id": "696e16b2",
   "metadata": {},
   "outputs": [
    {
     "name": "stdout",
     "output_type": "stream",
     "text": [
      "(4500, 18, 18)\n",
      "(4500,)\n",
      "(500, 18, 18)\n",
      "(500,)\n"
     ]
    }
   ],
   "source": [
    "print(x_train.shape)\n",
    "print(y_train.shape)\n",
    "print(x_test.shape)\n",
    "print(y_test.shape)"
   ]
  },
  {
   "cell_type": "code",
   "execution_count": 9,
   "id": "56b6f7b9",
   "metadata": {},
   "outputs": [
    {
     "data": {
      "image/png": "[encoded data removed]",
      "text/plain": [
       "<Figure size 432x288 with 2 Axes>"
      ]
     },
     "metadata": {
      "needs_background": "light"
     },
     "output_type": "display_data"
    }
   ],
   "source": [
    "plt.figure()\n",
    "plt.imshow(x_train[0])\n",
    "plt.colorbar()\n",
    "plt.grid(False)\n",
    "plt.show()"
   ]
  },
  {
   "cell_type": "markdown",
   "id": "2c80a51f",
   "metadata": {},
   "source": [
    "## Neural Network for images classification"
   ]
  },
  {
   "cell_type": "markdown",
   "id": "602fa9e3",
   "metadata": {},
   "source": [
    "### Preprocess train and test labels"
   ]
  },
  {
   "cell_type": "code",
   "execution_count": 45,
   "id": "683f5700",
   "metadata": {},
   "outputs": [],
   "source": [
    "train_labels = ['A', 'E', 'I', 'O', 'U'] \n",
    "# We follow the alphabetic order : A:0, E:1, I:2, O:3, U:4"
   ]
  },
  {
   "cell_type": "code",
   "execution_count": 15,
   "id": "1d9d85ac",
   "metadata": {},
   "outputs": [],
   "source": [
    "y_train_numeric = [0 if elem == 'A' else 1 if elem == 'E' else 2 if elem == 'I' else 3 if elem == 'O' else 4 for elem in y_train]"
   ]
  },
  {
   "cell_type": "code",
   "execution_count": 22,
   "id": "6f0a59ad",
   "metadata": {},
   "outputs": [],
   "source": [
    "y_test_numeric = [0 if elem == 'A' else 1 if elem == 'E' else 2 if elem == 'I' else 3 if elem == 'O' else 4 for elem in y_test]"
   ]
  },
  {
   "cell_type": "markdown",
   "id": "a7e8cb7b",
   "metadata": {},
   "source": [
    "### Preprocess training set and test set"
   ]
  },
  {
   "cell_type": "code",
   "execution_count": 10,
   "id": "78d77abf",
   "metadata": {},
   "outputs": [],
   "source": [
    "x_train = x_train / 255.0\n",
    "\n",
    "x_test = x_test / 255.0"
   ]
  },
  {
   "cell_type": "markdown",
   "id": "16629714",
   "metadata": {},
   "source": [
    "### Setup Neural Network"
   ]
  },
  {
   "cell_type": "code",
   "execution_count": 28,
   "id": "16701bda",
   "metadata": {},
   "outputs": [],
   "source": [
    "model = tf.keras.Sequential([\n",
    "    tf.keras.layers.Flatten(input_shape=(18, 18)),\n",
    "    tf.keras.layers.Dense(128, activation='relu'),\n",
    "    tf.keras.layers.Dense(10)\n",
    "])"
   ]
  },
  {
   "cell_type": "markdown",
   "id": "6eab9762",
   "metadata": {},
   "source": [
    "### Compile Model"
   ]
  },
  {
   "cell_type": "code",
   "execution_count": 29,
   "id": "67d0f827",
   "metadata": {},
   "outputs": [],
   "source": [
    "model.compile(optimizer='adam',\n",
    "              loss=tf.keras.losses.SparseCategoricalCrossentropy(from_logits=True),\n",
    "              metrics=['accuracy'])"
   ]
  },
  {
   "cell_type": "markdown",
   "id": "5769d9e1",
   "metadata": {},
   "source": [
    "### Train Model"
   ]
  },
  {
   "cell_type": "code",
   "execution_count": 30,
   "id": "5e9e5119",
   "metadata": {},
   "outputs": [
    {
     "name": "stdout",
     "output_type": "stream",
     "text": [
      "Epoch 1/10\n",
      "141/141 [==============================] - 1s 1ms/step - loss: 1.0473 - accuracy: 0.6560\n",
      "Epoch 2/10\n",
      "141/141 [==============================] - 0s 1ms/step - loss: 0.5301 - accuracy: 0.8520\n",
      "Epoch 3/10\n",
      "141/141 [==============================] - 0s 1ms/step - loss: 0.4370 - accuracy: 0.8711\n",
      "Epoch 4/10\n",
      "141/141 [==============================] - 0s 2ms/step - loss: 0.3798 - accuracy: 0.8860\n",
      "Epoch 5/10\n",
      "141/141 [==============================] - 0s 2ms/step - loss: 0.3439 - accuracy: 0.8953\n",
      "Epoch 6/10\n",
      "141/141 [==============================] - 0s 2ms/step - loss: 0.3255 - accuracy: 0.9011\n",
      "Epoch 7/10\n",
      "141/141 [==============================] - 0s 1ms/step - loss: 0.3133 - accuracy: 0.9078\n",
      "Epoch 8/10\n",
      "141/141 [==============================] - 0s 1ms/step - loss: 0.2901 - accuracy: 0.9127\n",
      "Epoch 9/10\n",
      "141/141 [==============================] - 0s 1ms/step - loss: 0.2936 - accuracy: 0.9131\n",
      "Epoch 10/10\n",
      "141/141 [==============================] - 0s 2ms/step - loss: 0.2734 - accuracy: 0.9187\n"
     ]
    },
    {
     "data": {
      "text/plain": [
       "<keras.callbacks.History at 0x7f7165caa700>"
      ]
     },
     "execution_count": 30,
     "metadata": {},
     "output_type": "execute_result"
    }
   ],
   "source": [
    "model.fit(x_train, np.asarray((y_train_numeric)), epochs=10)"
   ]
  },
  {
   "cell_type": "markdown",
   "id": "033c80a1",
   "metadata": {},
   "source": [
    "### Evaluate Model Performance"
   ]
  },
  {
   "cell_type": "code",
   "execution_count": 31,
   "id": "7a7043d4",
   "metadata": {},
   "outputs": [
    {
     "name": "stdout",
     "output_type": "stream",
     "text": [
      "16/16 - 0s - loss: 0.2766 - accuracy: 0.9220 - 121ms/epoch - 8ms/step\n",
      "\n",
      "Test accuracy: 0.921999990940094\n"
     ]
    }
   ],
   "source": [
    "test_loss, test_acc = model.evaluate(x_test, np.asarray((y_test_numeric)), verbose=2)\n",
    "\n",
    "print('\\nTest accuracy:', test_acc)"
   ]
  },
  {
   "cell_type": "markdown",
   "id": "4f9c60c0",
   "metadata": {},
   "source": [
    "### Test performance"
   ]
  },
  {
   "cell_type": "code",
   "execution_count": 34,
   "id": "2530709c",
   "metadata": {},
   "outputs": [],
   "source": [
    "probability_model = tf.keras.Sequential([model, tf.keras.layers.Softmax()])"
   ]
  },
  {
   "cell_type": "code",
   "execution_count": 35,
   "id": "a08a100c",
   "metadata": {},
   "outputs": [],
   "source": [
    "predictions = probability_model.predict(x_test)"
   ]
  },
  {
   "cell_type": "code",
   "execution_count": 36,
   "id": "fc86723e",
   "metadata": {},
   "outputs": [
    {
     "data": {
      "text/plain": [
       "array([3.7244160e-04, 6.3381284e-02, 9.2202479e-01, 1.1860826e-02,\n",
       "       2.3504333e-03, 2.4933040e-06, 1.7063232e-06, 1.0705050e-06,\n",
       "       1.6833219e-06, 3.3028546e-06], dtype=float32)"
      ]
     },
     "execution_count": 36,
     "metadata": {},
     "output_type": "execute_result"
    }
   ],
   "source": [
    "predictions[0]"
   ]
  },
  {
   "cell_type": "code",
   "execution_count": 39,
   "id": "332b11bb",
   "metadata": {},
   "outputs": [
    {
     "data": {
      "text/plain": [
       "2"
      ]
     },
     "execution_count": 39,
     "metadata": {},
     "output_type": "execute_result"
    }
   ],
   "source": [
    "np.argmax(predictions[0])"
   ]
  },
  {
   "cell_type": "code",
   "execution_count": 42,
   "id": "be9bfde6",
   "metadata": {},
   "outputs": [
    {
     "data": {
      "text/plain": [
       "2"
      ]
     },
     "execution_count": 42,
     "metadata": {},
     "output_type": "execute_result"
    }
   ],
   "source": [
    "y_test_numeric[0]"
   ]
  },
  {
   "cell_type": "code",
   "execution_count": null,
   "id": "99c40e06",
   "metadata": {},
   "outputs": [],
   "source": []
  },
  {
   "cell_type": "code",
   "execution_count": 48,
   "id": "b10eb201",
   "metadata": {},
   "outputs": [],
   "source": [
    "def plot_image(i, predictions_array, true_label, img):\n",
    "  true_label, img = true_label[i], img[i]\n",
    "  plt.grid(False)\n",
    "  plt.xticks([])\n",
    "  plt.yticks([])\n",
    "\n",
    "  plt.imshow(img, cmap=plt.cm.binary)\n",
    "\n",
    "  predicted_label = np.argmax(predictions_array)\n",
    "  if predicted_label == true_label:\n",
    "    color = 'blue'\n",
    "  else:\n",
    "    color = 'red'\n",
    "\n",
    "  plt.xlabel(\"{} {:2.0f}% ({})\".format(train_labels[predicted_label],\n",
    "                                100*np.max(predictions_array),\n",
    "                                train_labels[true_label]),\n",
    "                                color=color)\n",
    "\n",
    "def plot_value_array(i, predictions_array, true_label):\n",
    "  true_label = true_label[i]\n",
    "  plt.grid(False)\n",
    "  plt.xticks(range(10))\n",
    "  plt.yticks([])\n",
    "  thisplot = plt.bar(range(10), predictions_array, color=\"#777777\")\n",
    "  plt.ylim([0, 1])\n",
    "  predicted_label = np.argmax(predictions_array)\n",
    "\n",
    "  thisplot[predicted_label].set_color('red')\n",
    "  thisplot[true_label].set_color('blue')"
   ]
  },
  {
   "cell_type": "code",
   "execution_count": 52,
   "id": "45682f9d",
   "metadata": {},
   "outputs": [
    {
     "data": {
      "image/png": "[encoded data removed]",
      "text/plain": [
       "<Figure size 432x216 with 2 Axes>"
      ]
     },
     "metadata": {
      "needs_background": "light"
     },
     "output_type": "display_data"
    }
   ],
   "source": [
    "i = 0\n",
    "plt.figure(figsize=(6,3))\n",
    "plt.subplot(1,2,1)\n",
    "plot_image(i, predictions[i], y_test_numeric, x_test)\n",
    "plt.subplot(1,2,2)\n",
    "plot_value_array(i, predictions[i],  y_test_numeric)\n",
    "plt.show()"
   ]
  },
  {
   "cell_type": "markdown",
   "id": "3c0cd6ce",
   "metadata": {},
   "source": [
    "### Some errors"
   ]
  },
  {
   "cell_type": "code",
   "execution_count": 58,
   "id": "67da1bdc",
   "metadata": {},
   "outputs": [
    {
     "data": {
      "image/png": "[encoded data removed]",
      "text/plain": [
       "<Figure size 432x216 with 2 Axes>"
      ]
     },
     "metadata": {
      "needs_background": "light"
     },
     "output_type": "display_data"
    }
   ],
   "source": [
    "i = 6\n",
    "plt.figure(figsize=(6,3))\n",
    "plt.subplot(1,2,1)\n",
    "plot_image(i, predictions[i], y_test_numeric, x_test)\n",
    "plt.subplot(1,2,2)\n",
    "plot_value_array(i, predictions[i],  y_test_numeric)\n",
    "plt.show()"
   ]
  },
  {
   "cell_type": "code",
   "execution_count": 60,
   "id": "78654724",
   "metadata": {},
   "outputs": [
    {
     "data": {
      "image/png": "[encoded data removed]",
      "text/plain": [
       "<Figure size 432x216 with 2 Axes>"
      ]
     },
     "metadata": {
      "needs_background": "light"
     },
     "output_type": "display_data"
    }
   ],
   "source": [
    "i = 8\n",
    "plt.figure(figsize=(6,3))\n",
    "plt.subplot(1,2,1)\n",
    "plot_image(i, predictions[i], y_test_numeric, x_test)\n",
    "plt.subplot(1,2,2)\n",
    "plot_value_array(i, predictions[i],  y_test_numeric)\n",
    "plt.show()"
   ]
  },
  {
   "cell_type": "code",
   "execution_count": 62,
   "id": "ee9b3b61",
   "metadata": {
    "scrolled": true
   },
   "outputs": [
    {
     "data": {
      "image/png": "[encoded data removed]",
      "text/plain": [
       "<Figure size 864x720 with 30 Axes>"
      ]
     },
     "metadata": {
      "needs_background": "light"
     },
     "output_type": "display_data"
    }
   ],
   "source": [
    "# Plot the first X test images, their predicted labels, and the true labels.\n",
    "# Color correct predictions in blue and incorrect predictions in red.\n",
    "num_rows = 5\n",
    "num_cols = 3\n",
    "num_images = num_rows*num_cols\n",
    "plt.figure(figsize=(2*2*num_cols, 2*num_rows))\n",
    "for i in range(num_images):\n",
    "  plt.subplot(num_rows, 2*num_cols, 2*i+1)\n",
    "  plot_image(i, predictions[i], y_test_numeric, x_test)\n",
    "  plt.subplot(num_rows, 2*num_cols, 2*i+2)\n",
    "  plot_value_array(i, predictions[i], y_test_numeric)\n",
    "plt.tight_layout()\n",
    "plt.show()"
   ]
  },
  {
   "cell_type": "code",
   "execution_count": null,
   "id": "7a3ff30c",
   "metadata": {},
   "outputs": [],
   "source": []
  },
  {
   "cell_type": "markdown",
   "id": "7912327b",
   "metadata": {},
   "source": [
    "### Confusion Matrix"
   ]
  },
  {
   "cell_type": "code",
   "execution_count": 63,
   "id": "42a0d042",
   "metadata": {},
   "outputs": [],
   "source": [
    "from sklearn.metrics import confusion_matrix, ConfusionMatrixDisplay"
   ]
  },
  {
   "cell_type": "code",
   "execution_count": 68,
   "id": "f12cadfc",
   "metadata": {},
   "outputs": [],
   "source": [
    "def get_preds(predictions, class_labels):\n",
    "    labelled_predictions = []\n",
    "    for preds in predictions:\n",
    "        max_pred = np.argmax(preds)\n",
    "        label = class_labels[max_pred]\n",
    "        labelled_predictions.append(label)\n",
    "    return labelled_predictions"
   ]
  },
  {
   "cell_type": "code",
   "execution_count": 69,
   "id": "7eb3363a",
   "metadata": {},
   "outputs": [],
   "source": [
    "preds = get_preds(predictions, train_labels)"
   ]
  },
  {
   "cell_type": "code",
   "execution_count": 75,
   "id": "8e735dd2",
   "metadata": {},
   "outputs": [],
   "source": [
    "cm = confusion_matrix(y_test, preds, labels=['A', 'E', 'I', 'O', 'U'])"
   ]
  },
  {
   "cell_type": "code",
   "execution_count": 76,
   "id": "6f6f277e",
   "metadata": {},
   "outputs": [],
   "source": [
    "disp = ConfusionMatrixDisplay(confusion_matrix=cm, display_labels=['A', 'E', 'I', 'O', 'U'])"
   ]
  },
  {
   "cell_type": "code",
   "execution_count": 77,
   "id": "8109b379",
   "metadata": {},
   "outputs": [
    {
     "data": {
      "text/plain": [
       "<sklearn.metrics._plot.confusion_matrix.ConfusionMatrixDisplay at 0x7f71277c3fd0>"
      ]
     },
     "execution_count": 77,
     "metadata": {},
     "output_type": "execute_result"
    },
    {
     "data": {
      "image/png": "[encoded data removed]",
      "text/plain": [
       "<Figure size 432x288 with 2 Axes>"
      ]
     },
     "metadata": {
      "needs_background": "light"
     },
     "output_type": "display_data"
    }
   ],
   "source": [
    "disp.plot()"
   ]
  },
  {
   "cell_type": "code",
   "execution_count": null,
   "id": "3be54bb2",
   "metadata": {},
   "outputs": [],
   "source": []
  },
  {
   "cell_type": "markdown",
   "id": "bbfc935c",
   "metadata": {},
   "source": [
    "## Convolutionnal Neural Network for images classification"
   ]
  },
  {
   "cell_type": "code",
   "execution_count": 78,
   "id": "ae410cde",
   "metadata": {},
   "outputs": [],
   "source": [
    "from tensorflow.keras import datasets, layers, models"
   ]
  },
  {
   "cell_type": "code",
   "execution_count": 90,
   "id": "1eec6afc",
   "metadata": {},
   "outputs": [
    {
     "data": {
      "text/plain": [
       "(4500, 18, 18)"
      ]
     },
     "execution_count": 90,
     "metadata": {},
     "output_type": "execute_result"
    }
   ],
   "source": [
    "x_train.shape"
   ]
  },
  {
   "cell_type": "markdown",
   "id": "72557dd3",
   "metadata": {},
   "source": [
    "### Model Architecture"
   ]
  },
  {
   "cell_type": "code",
   "execution_count": 93,
   "id": "6f693342",
   "metadata": {},
   "outputs": [],
   "source": [
    "model = models.Sequential()\n",
    "model.add(layers.Conv2D(32, (3, 3), activation='relu', input_shape=(18, 18, 1)))\n",
    "model.add(layers.MaxPooling2D((2, 2)))\n",
    "model.add(layers.Conv2D(64, (3, 3), activation='relu'))\n",
    "model.add(layers.MaxPooling2D((2, 2)))\n",
    "model.add(layers.Conv2D(64, (3, 3), activation='relu'))"
   ]
  },
  {
   "cell_type": "code",
   "execution_count": 94,
   "id": "7ad25c76",
   "metadata": {},
   "outputs": [
    {
     "name": "stdout",
     "output_type": "stream",
     "text": [
      "Model: \"sequential_6\"\n",
      "_________________________________________________________________\n",
      " Layer (type)                Output Shape              Param #   \n",
      "=================================================================\n",
      " conv2d_7 (Conv2D)           (None, 16, 16, 32)        320       \n",
      "                                                                 \n",
      " max_pooling2d_4 (MaxPooling  (None, 8, 8, 32)         0         \n",
      " 2D)                                                             \n",
      "                                                                 \n",
      " conv2d_8 (Conv2D)           (None, 6, 6, 64)          18496     \n",
      "                                                                 \n",
      " max_pooling2d_5 (MaxPooling  (None, 3, 3, 64)         0         \n",
      " 2D)                                                             \n",
      "                                                                 \n",
      " conv2d_9 (Conv2D)           (None, 1, 1, 64)          36928     \n",
      "                                                                 \n",
      "=================================================================\n",
      "Total params: 55,744\n",
      "Trainable params: 55,744\n",
      "Non-trainable params: 0\n",
      "_________________________________________________________________\n"
     ]
    }
   ],
   "source": [
    "model.summary()"
   ]
  },
  {
   "cell_type": "markdown",
   "id": "2c494287",
   "metadata": {},
   "source": [
    "### Add dense layer for classification"
   ]
  },
  {
   "cell_type": "code",
   "execution_count": 95,
   "id": "6a0fa53d",
   "metadata": {},
   "outputs": [],
   "source": [
    "model.add(layers.Flatten())\n",
    "model.add(layers.Dense(64, activation='relu'))\n",
    "model.add(layers.Dense(10))"
   ]
  },
  {
   "cell_type": "code",
   "execution_count": 96,
   "id": "9cd6b468",
   "metadata": {},
   "outputs": [
    {
     "name": "stdout",
     "output_type": "stream",
     "text": [
      "Model: \"sequential_6\"\n",
      "_________________________________________________________________\n",
      " Layer (type)                Output Shape              Param #   \n",
      "=================================================================\n",
      " conv2d_7 (Conv2D)           (None, 16, 16, 32)        320       \n",
      "                                                                 \n",
      " max_pooling2d_4 (MaxPooling  (None, 8, 8, 32)         0         \n",
      " 2D)                                                             \n",
      "                                                                 \n",
      " conv2d_8 (Conv2D)           (None, 6, 6, 64)          18496     \n",
      "                                                                 \n",
      " max_pooling2d_5 (MaxPooling  (None, 3, 3, 64)         0         \n",
      " 2D)                                                             \n",
      "                                                                 \n",
      " conv2d_9 (Conv2D)           (None, 1, 1, 64)          36928     \n",
      "                                                                 \n",
      " flatten_3 (Flatten)         (None, 64)                0         \n",
      "                                                                 \n",
      " dense_6 (Dense)             (None, 64)                4160      \n",
      "                                                                 \n",
      " dense_7 (Dense)             (None, 10)                650       \n",
      "                                                                 \n",
      "=================================================================\n",
      "Total params: 60,554\n",
      "Trainable params: 60,554\n",
      "Non-trainable params: 0\n",
      "_________________________________________________________________\n"
     ]
    }
   ],
   "source": [
    "model.summary()"
   ]
  },
  {
   "cell_type": "markdown",
   "id": "ad3b3288",
   "metadata": {},
   "source": [
    "### Compile Model "
   ]
  },
  {
   "cell_type": "code",
   "execution_count": 97,
   "id": "b0e4bae6",
   "metadata": {},
   "outputs": [],
   "source": [
    "model.compile(optimizer='adam',\n",
    "              loss=tf.keras.losses.SparseCategoricalCrossentropy(from_logits=True),\n",
    "              metrics=['accuracy'])"
   ]
  },
  {
   "cell_type": "markdown",
   "id": "710a965e",
   "metadata": {},
   "source": [
    "### Train Model"
   ]
  },
  {
   "cell_type": "code",
   "execution_count": 104,
   "id": "3c6b2c35",
   "metadata": {},
   "outputs": [
    {
     "name": "stdout",
     "output_type": "stream",
     "text": [
      "Epoch 1/10\n",
      "141/141 [==============================] - 1s 8ms/step - loss: 1.1125 - accuracy: 0.5976 - val_loss: 0.2622 - val_accuracy: 0.9380\n",
      "Epoch 2/10\n",
      "141/141 [==============================] - 1s 7ms/step - loss: 0.1904 - accuracy: 0.9409 - val_loss: 0.1064 - val_accuracy: 0.9640\n",
      "Epoch 3/10\n",
      "141/141 [==============================] - 1s 8ms/step - loss: 0.1108 - accuracy: 0.9662 - val_loss: 0.0839 - val_accuracy: 0.9720\n",
      "Epoch 4/10\n",
      "141/141 [==============================] - 1s 7ms/step - loss: 0.0847 - accuracy: 0.9744 - val_loss: 0.0787 - val_accuracy: 0.9860\n",
      "Epoch 5/10\n",
      "141/141 [==============================] - 1s 7ms/step - loss: 0.0662 - accuracy: 0.9818 - val_loss: 0.0589 - val_accuracy: 0.9820\n",
      "Epoch 6/10\n",
      "141/141 [==============================] - 1s 7ms/step - loss: 0.0555 - accuracy: 0.9849 - val_loss: 0.0588 - val_accuracy: 0.9860\n",
      "Epoch 7/10\n",
      "141/141 [==============================] - 1s 7ms/step - loss: 0.0398 - accuracy: 0.9889 - val_loss: 0.0500 - val_accuracy: 0.9820\n",
      "Epoch 8/10\n",
      "141/141 [==============================] - 1s 7ms/step - loss: 0.0388 - accuracy: 0.9882 - val_loss: 0.0656 - val_accuracy: 0.9820\n",
      "Epoch 9/10\n",
      "141/141 [==============================] - 1s 7ms/step - loss: 0.0293 - accuracy: 0.9913 - val_loss: 0.0525 - val_accuracy: 0.9840\n",
      "Epoch 10/10\n",
      "141/141 [==============================] - 1s 6ms/step - loss: 0.0239 - accuracy: 0.9931 - val_loss: 0.0519 - val_accuracy: 0.9820\n"
     ]
    }
   ],
   "source": [
    "history = model.fit(x_train, np.asarray((y_train_numeric)), epochs=10, \n",
    "                    validation_data=(x_test, np.asarray((y_test_numeric))))"
   ]
  },
  {
   "cell_type": "markdown",
   "id": "eb3c8ef8",
   "metadata": {},
   "source": [
    "### Evaluate the model"
   ]
  },
  {
   "cell_type": "code",
   "execution_count": 106,
   "id": "dd8d11aa",
   "metadata": {},
   "outputs": [
    {
     "name": "stdout",
     "output_type": "stream",
     "text": [
      "16/16 - 0s - loss: 0.0519 - accuracy: 0.9820 - 122ms/epoch - 8ms/step\n"
     ]
    },
    {
     "data": {
      "image/png": "[encoded data removed]",
      "text/plain": [
       "<Figure size 432x288 with 1 Axes>"
      ]
     },
     "metadata": {
      "needs_background": "light"
     },
     "output_type": "display_data"
    }
   ],
   "source": [
    "plt.plot(history.history['accuracy'], label='accuracy')\n",
    "plt.plot(history.history['val_accuracy'], label = 'val_accuracy')\n",
    "plt.xlabel('Epoch')\n",
    "plt.ylabel('Accuracy')\n",
    "plt.ylim([0.5, 1])\n",
    "plt.legend(loc='lower right')\n",
    "\n",
    "test_loss, test_acc = model.evaluate(x_test,  np.asarray((y_test_numeric)), verbose=2)"
   ]
  },
  {
   "cell_type": "code",
   "execution_count": 107,
   "id": "90180851",
   "metadata": {},
   "outputs": [
    {
     "name": "stdout",
     "output_type": "stream",
     "text": [
      "0.9819999933242798\n"
     ]
    }
   ],
   "source": [
    "print(test_acc)"
   ]
  },
  {
   "cell_type": "code",
   "execution_count": 108,
   "id": "e7c53d07",
   "metadata": {},
   "outputs": [],
   "source": [
    "probability_model = tf.keras.Sequential([model, tf.keras.layers.Softmax()])"
   ]
  },
  {
   "cell_type": "code",
   "execution_count": 109,
   "id": "6aa29d78",
   "metadata": {},
   "outputs": [],
   "source": [
    "predictions = probability_model.predict(x_test)"
   ]
  },
  {
   "cell_type": "code",
   "execution_count": 110,
   "id": "3d2fc65a",
   "metadata": {},
   "outputs": [
    {
     "data": {
      "text/plain": [
       "array([2.0974012e-06, 1.2144061e-04, 9.9986970e-01, 2.2403867e-06,\n",
       "       4.3621976e-06, 6.7498040e-10, 1.3023748e-09, 8.5906301e-08,\n",
       "       1.5094318e-07, 6.9585462e-09], dtype=float32)"
      ]
     },
     "execution_count": 110,
     "metadata": {},
     "output_type": "execute_result"
    }
   ],
   "source": [
    "predictions[0]"
   ]
  },
  {
   "cell_type": "code",
   "execution_count": 111,
   "id": "93f14c0a",
   "metadata": {},
   "outputs": [
    {
     "data": {
      "image/png": "[encoded data removed]",
      "text/plain": [
       "<Figure size 432x216 with 2 Axes>"
      ]
     },
     "metadata": {
      "needs_background": "light"
     },
     "output_type": "display_data"
    }
   ],
   "source": [
    "i = 0\n",
    "plt.figure(figsize=(6,3))\n",
    "plt.subplot(1,2,1)\n",
    "plot_image(i, predictions[i], y_test_numeric, x_test)\n",
    "plt.subplot(1,2,2)\n",
    "plot_value_array(i, predictions[i],  y_test_numeric)\n",
    "plt.show()"
   ]
  },
  {
   "cell_type": "code",
   "execution_count": 112,
   "id": "d1f05c9a",
   "metadata": {},
   "outputs": [
    {
     "data": {
      "image/png": "[encoded data removed]",
      "text/plain": [
       "<Figure size 432x216 with 2 Axes>"
      ]
     },
     "metadata": {
      "needs_background": "light"
     },
     "output_type": "display_data"
    }
   ],
   "source": [
    "i = 6\n",
    "plt.figure(figsize=(6,3))\n",
    "plt.subplot(1,2,1)\n",
    "plot_image(i, predictions[i], y_test_numeric, x_test)\n",
    "plt.subplot(1,2,2)\n",
    "plot_value_array(i, predictions[i],  y_test_numeric)\n",
    "plt.show()"
   ]
  },
  {
   "cell_type": "code",
   "execution_count": 113,
   "id": "932cc5f6",
   "metadata": {},
   "outputs": [
    {
     "data": {
      "image/png": "[encoded data removed]",
      "text/plain": [
       "<Figure size 432x216 with 2 Axes>"
      ]
     },
     "metadata": {
      "needs_background": "light"
     },
     "output_type": "display_data"
    }
   ],
   "source": [
    "i = 8\n",
    "plt.figure(figsize=(6,3))\n",
    "plt.subplot(1,2,1)\n",
    "plot_image(i, predictions[i], y_test_numeric, x_test)\n",
    "plt.subplot(1,2,2)\n",
    "plot_value_array(i, predictions[i],  y_test_numeric)\n",
    "plt.show()"
   ]
  },
  {
   "cell_type": "code",
   "execution_count": 114,
   "id": "b346dd9e",
   "metadata": {},
   "outputs": [
    {
     "data": {
      "image/png": "[encoded data removed]",
      "text/plain": [
       "<Figure size 864x720 with 30 Axes>"
      ]
     },
     "metadata": {
      "needs_background": "light"
     },
     "output_type": "display_data"
    }
   ],
   "source": [
    "# Plot the first X test images, their predicted labels, and the true labels.\n",
    "# Color correct predictions in blue and incorrect predictions in red.\n",
    "num_rows = 5\n",
    "num_cols = 3\n",
    "num_images = num_rows*num_cols\n",
    "plt.figure(figsize=(2*2*num_cols, 2*num_rows))\n",
    "for i in range(num_images):\n",
    "  plt.subplot(num_rows, 2*num_cols, 2*i+1)\n",
    "  plot_image(i, predictions[i], y_test_numeric, x_test)\n",
    "  plt.subplot(num_rows, 2*num_cols, 2*i+2)\n",
    "  plot_value_array(i, predictions[i], y_test_numeric)\n",
    "plt.tight_layout()\n",
    "plt.show()"
   ]
  },
  {
   "cell_type": "code",
   "execution_count": 115,
   "id": "3e535891",
   "metadata": {},
   "outputs": [],
   "source": [
    "preds = get_preds(predictions, train_labels)"
   ]
  },
  {
   "cell_type": "code",
   "execution_count": 116,
   "id": "14c0b952",
   "metadata": {},
   "outputs": [],
   "source": [
    "cm = confusion_matrix(y_test, preds, labels=['A', 'E', 'I', 'O', 'U'])"
   ]
  },
  {
   "cell_type": "code",
   "execution_count": 117,
   "id": "74a9680d",
   "metadata": {},
   "outputs": [],
   "source": [
    "disp = ConfusionMatrixDisplay(confusion_matrix=cm, display_labels=['A', 'E', 'I', 'O', 'U'])"
   ]
  },
  {
   "cell_type": "code",
   "execution_count": 118,
   "id": "e5ba2784",
   "metadata": {},
   "outputs": [
    {
     "data": {
      "text/plain": [
       "<sklearn.metrics._plot.confusion_matrix.ConfusionMatrixDisplay at 0x7f713972c460>"
      ]
     },
     "execution_count": 118,
     "metadata": {},
     "output_type": "execute_result"
    },
    {
     "data": {
      "image/png": "[encoded data removed]",
      "text/plain": [
       "<Figure size 432x288 with 2 Axes>"
      ]
     },
     "metadata": {
      "needs_background": "light"
     },
     "output_type": "display_data"
    }
   ],
   "source": [
    "disp.plot()"
   ]
  },
  {
   "cell_type": "code",
   "execution_count": null,
   "id": "15361bfa",
   "metadata": {},
   "outputs": [],
   "source": []
  }
 ],
 "metadata": {
  "kernelspec": {
   "display_name": "Python 3",
   "language": "python",
   "name": "python3"
  },
  "language_info": {
   "codemirror_mode": {
    "name": "ipython",
    "version": 3
   },
   "file_extension": ".py",
   "mimetype": "text/x-python",
   "name": "python",
   "nbconvert_exporter": "python",
   "pygments_lexer": "ipython3",
   "version": "3.8.8"
  }
 },
 "nbformat": 4,
 "nbformat_minor": 5
}
