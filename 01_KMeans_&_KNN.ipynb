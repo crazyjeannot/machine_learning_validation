{
 "cells": [
  {
   "cell_type": "code",
   "execution_count": 191,
   "id": "64a69bfb",
   "metadata": {},
   "outputs": [],
   "source": [
    "import numpy as np\n",
    "import os\n",
    "import matplotlib.pyplot as plt\n",
    "import random\n",
    "import pandas as pd"
   ]
  },
  {
   "cell_type": "markdown",
   "id": "4667f2e0",
   "metadata": {},
   "source": [
    "## Import Digits"
   ]
  },
  {
   "cell_type": "markdown",
   "id": "ca2d7f64",
   "metadata": {},
   "source": [
    "### Load labels train & test"
   ]
  },
  {
   "cell_type": "code",
   "execution_count": 137,
   "id": "91716221",
   "metadata": {},
   "outputs": [],
   "source": [
    "y_train = np.loadtxt(\"../train_labels.txt\",dtype=str)\n",
    "y_test = np.loadtxt(\"../test_labels.txt\",dtype=str)"
   ]
  },
  {
   "cell_type": "markdown",
   "id": "37406f77",
   "metadata": {},
   "source": [
    "### Load data train & test"
   ]
  },
  {
   "cell_type": "code",
   "execution_count": 138,
   "id": "e5ea1e2e",
   "metadata": {},
   "outputs": [],
   "source": [
    "filenames_train = [x for x in os.listdir(\"../train_voyelles\") if x[0]==\"v\"]\n",
    "filenames_train.sort()\n",
    "filenames_test = [x for x in os.listdir(\"../test_voyelles\") if x[0]==\"v\"]\n",
    "filenames_test.sort()"
   ]
  },
  {
   "cell_type": "code",
   "execution_count": 139,
   "id": "2288875e",
   "metadata": {},
   "outputs": [],
   "source": [
    "x_train = []\n",
    "for f in filenames_train:\n",
    "  input = np.loadtxt(\"../train_voyelles/\"+f, dtype='i', delimiter='\\t')\n",
    "  x_train.append(input)\n",
    "x_train = np.asarray(x_train)"
   ]
  },
  {
   "cell_type": "code",
   "execution_count": 140,
   "id": "207a7cb0",
   "metadata": {},
   "outputs": [],
   "source": [
    "x_test = []\n",
    "for f in filenames_test:\n",
    "  input = np.loadtxt(\"../test_voyelles/\"+f, dtype='i', delimiter='\\t')\n",
    "  x_test.append(input)\n",
    "x_test = np.asarray(x_test)"
   ]
  },
  {
   "cell_type": "code",
   "execution_count": 141,
   "id": "5cab6aa6",
   "metadata": {},
   "outputs": [
    {
     "name": "stdout",
     "output_type": "stream",
     "text": [
      "(4500, 18, 18)\n",
      "(4500,)\n",
      "(500, 18, 18)\n",
      "(500,)\n"
     ]
    }
   ],
   "source": [
    "print(x_train.shape)\n",
    "print(y_train.shape)\n",
    "print(x_test.shape)\n",
    "print(y_test.shape)"
   ]
  },
  {
   "cell_type": "code",
   "execution_count": 142,
   "id": "9fad3976",
   "metadata": {},
   "outputs": [
    {
     "name": "stdout",
     "output_type": "stream",
     "text": [
      "A: 105\n",
      "E: 108\n",
      "I: 92\n",
      "O: 108\n",
      "U: 87\n"
     ]
    }
   ],
   "source": [
    "for v in ['A','E','I','O','U']:\n",
    "  print(v+\": \"+str(np.sum(y_test==v)))"
   ]
  },
  {
   "cell_type": "code",
   "execution_count": 143,
   "id": "378f4813",
   "metadata": {},
   "outputs": [
    {
     "name": "stdout",
     "output_type": "stream",
     "text": [
      "U\n"
     ]
    },
    {
     "data": {
      "image/png": "[encoded data removed]",
      "text/plain": [
       "<Figure size 432x288 with 1 Axes>"
      ]
     },
     "metadata": {
      "needs_background": "light"
     },
     "output_type": "display_data"
    }
   ],
   "source": [
    "id = random.randint(0, len(x_test))\n",
    "plt.imshow(x_test[id],cmap =\"gray\")\n",
    "print(y_test[id])"
   ]
  },
  {
   "cell_type": "code",
   "execution_count": 148,
   "id": "5e2d69b3",
   "metadata": {},
   "outputs": [
    {
     "name": "stdout",
     "output_type": "stream",
     "text": [
      "I\n"
     ]
    },
    {
     "data": {
      "image/png": "[encoded data removed]",
      "text/plain": [
       "<Figure size 432x288 with 1 Axes>"
      ]
     },
     "metadata": {
      "needs_background": "light"
     },
     "output_type": "display_data"
    }
   ],
   "source": [
    "plt.imshow(x_test[0],cmap =\"gray\")\n",
    "print(y_test[0])"
   ]
  },
  {
   "cell_type": "code",
   "execution_count": null,
   "id": "c7a44540",
   "metadata": {},
   "outputs": [],
   "source": []
  },
  {
   "cell_type": "code",
   "execution_count": null,
   "id": "294f8680",
   "metadata": {},
   "outputs": [],
   "source": []
  },
  {
   "cell_type": "markdown",
   "id": "94bb8579",
   "metadata": {},
   "source": [
    "### Reshape Train and test data for sklearn estimator"
   ]
  },
  {
   "cell_type": "code",
   "execution_count": 176,
   "id": "c95f1871",
   "metadata": {},
   "outputs": [],
   "source": [
    "x_train = x_train.reshape(x_train.shape[0], -1)"
   ]
  },
  {
   "cell_type": "code",
   "execution_count": 177,
   "id": "4bb58cef",
   "metadata": {},
   "outputs": [],
   "source": [
    "x_test = x_test.reshape(x_test.shape[0], -1)"
   ]
  },
  {
   "cell_type": "code",
   "execution_count": null,
   "id": "af5b8f87",
   "metadata": {},
   "outputs": [],
   "source": []
  },
  {
   "cell_type": "code",
   "execution_count": 227,
   "id": "964ae88a",
   "metadata": {},
   "outputs": [],
   "source": [
    "from sklearn.cluster import KMeans\n",
    "from sklearn import metrics\n",
    "from sklearn.pipeline import make_pipeline\n",
    "from sklearn.preprocessing import StandardScaler\n",
    "from sklearn.cluster import KMeans\n",
    "from sklearn.metrics import homogeneity_score\n",
    "from sklearn.metrics import silhouette_score\n",
    "from sklearn.metrics import confusion_matrix, ConfusionMatrixDisplay"
   ]
  },
  {
   "cell_type": "code",
   "execution_count": 125,
   "id": "37de8be7",
   "metadata": {},
   "outputs": [],
   "source": [
    "def train_kmeans(x_train, y_train, x_test, y_test, k=5):\n",
    "    \n",
    "    # MAKE PIPELINE W/ STANDARD SCALER AND KMEANS ESTIMATOR\n",
    "    kmeans = KMeans(n_clusters=k)\n",
    "    \n",
    "    # FIT ON TRAIN DATA\n",
    "    kmeans.fit(x_train, y_train)\n",
    "    \n",
    "    # PREDICT ON TEST DATA\n",
    "    preds = kmeans.predict(x_test)\n",
    "    \n",
    "    # EVALUATION\n",
    "    score1 = silhouette_score(x_train, y_train)\n",
    "    print(\"Silhouette Score : \", score1)\n",
    "    score2 = homogeneity_score(y_test, preds)\n",
    "    print(\"Homogeneity Score : \", score2)\n",
    "    \n",
    "    return kmeans, preds\n"
   ]
  },
  {
   "cell_type": "code",
   "execution_count": null,
   "id": "2d8ea170",
   "metadata": {},
   "outputs": [],
   "source": []
  },
  {
   "cell_type": "code",
   "execution_count": 126,
   "id": "659f137f",
   "metadata": {
    "scrolled": true
   },
   "outputs": [
    {
     "name": "stderr",
     "output_type": "stream",
     "text": [
      "Exception ignored on calling ctypes callback function: <function _ThreadpoolInfo._find_modules_with_dl_iterate_phdr.<locals>.match_module_callback at 0x7f6c2e6fa820>\n",
      "Traceback (most recent call last):\n",
      "  File \"/home/humanum/anaconda3/lib/python3.8/site-packages/threadpoolctl.py\", line 400, in match_module_callback\n",
      "    self._make_module_from_path(filepath)\n",
      "  File \"/home/humanum/anaconda3/lib/python3.8/site-packages/threadpoolctl.py\", line 515, in _make_module_from_path\n",
      "    module = module_class(filepath, prefix, user_api, internal_api)\n",
      "  File \"/home/humanum/anaconda3/lib/python3.8/site-packages/threadpoolctl.py\", line 606, in __init__\n",
      "    self.version = self.get_version()\n",
      "  File \"/home/humanum/anaconda3/lib/python3.8/site-packages/threadpoolctl.py\", line 646, in get_version\n",
      "    config = get_config().split()\n",
      "AttributeError: 'NoneType' object has no attribute 'split'\n"
     ]
    },
    {
     "name": "stdout",
     "output_type": "stream",
     "text": [
      "Silhouette Score :  0.05606698128902493\n",
      "Homogeneity Score :  0.3570158900647452\n"
     ]
    }
   ],
   "source": [
    "kmeans, preds = train_kmeans(x_train, y_train, x_test, y_test)"
   ]
  },
  {
   "cell_type": "code",
   "execution_count": 181,
   "id": "2e81d015",
   "metadata": {},
   "outputs": [
    {
     "data": {
      "text/plain": [
       "array([[254.05586592, 253.28631285, 250.98324022, ..., 252.92178771,\n",
       "        254.14664804, 254.61452514],\n",
       "       [254.59312321, 254.38538682, 254.40544413, ..., 254.98710602,\n",
       "        254.99140401, 255.        ],\n",
       "       [254.99004975, 254.99004975, 254.94527363, ..., 254.73631841,\n",
       "        254.81840796, 254.8880597 ],\n",
       "       [254.52817574, 254.16045845, 253.82712512, ..., 254.27889207,\n",
       "        254.61413563, 254.82903534],\n",
       "       [255.        , 254.99838057, 254.99433198, ..., 254.91659919,\n",
       "        254.9805668 , 254.99352227]])"
      ]
     },
     "execution_count": 181,
     "metadata": {},
     "output_type": "execute_result"
    }
   ],
   "source": [
    "kmeans.cluster_centers_"
   ]
  },
  {
   "cell_type": "code",
   "execution_count": 180,
   "id": "1c6ffd23",
   "metadata": {},
   "outputs": [
    {
     "data": {
      "text/plain": [
       "array([3, 4, 1, ..., 3, 0, 4], dtype=int32)"
      ]
     },
     "execution_count": 180,
     "metadata": {},
     "output_type": "execute_result"
    }
   ],
   "source": [
    "kmeans.labels_"
   ]
  },
  {
   "cell_type": "code",
   "execution_count": 184,
   "id": "60d5aaf2",
   "metadata": {},
   "outputs": [],
   "source": [
    "y_test = list(y_test)"
   ]
  },
  {
   "cell_type": "code",
   "execution_count": 185,
   "id": "8465097b",
   "metadata": {},
   "outputs": [],
   "source": [
    "y_preds = list(preds)"
   ]
  },
  {
   "cell_type": "code",
   "execution_count": 195,
   "id": "03c6e183",
   "metadata": {},
   "outputs": [],
   "source": [
    "zipped = list(zip(y_test, y_preds))\n",
    "df = pd.DataFrame(zipped, columns=['TRUE_VALUE', 'PREDICTION'])"
   ]
  },
  {
   "cell_type": "code",
   "execution_count": 209,
   "id": "6e73b679",
   "metadata": {},
   "outputs": [],
   "source": [
    "df_O = df[df['TRUE_VALUE'] == 'O']"
   ]
  },
  {
   "cell_type": "code",
   "execution_count": 213,
   "id": "a15cc82a",
   "metadata": {},
   "outputs": [
    {
     "data": {
      "text/plain": [
       "108"
      ]
     },
     "execution_count": 213,
     "metadata": {},
     "output_type": "execute_result"
    }
   ],
   "source": [
    "len(df_O)"
   ]
  },
  {
   "cell_type": "code",
   "execution_count": 211,
   "id": "cfdcc7db",
   "metadata": {},
   "outputs": [
    {
     "data": {
      "text/plain": [
       "TRUE_VALUE  PREDICTION\n",
       "O           4             58\n",
       "            0             32\n",
       "            3             12\n",
       "            1              5\n",
       "            2              1\n",
       "dtype: int64"
      ]
     },
     "execution_count": 211,
     "metadata": {},
     "output_type": "execute_result"
    }
   ],
   "source": [
    "df_O.value_counts()"
   ]
  },
  {
   "cell_type": "code",
   "execution_count": 221,
   "id": "42bea593",
   "metadata": {},
   "outputs": [],
   "source": [
    "df_U = df[df['TRUE_VALUE'] == 'E']"
   ]
  },
  {
   "cell_type": "code",
   "execution_count": 222,
   "id": "683f3766",
   "metadata": {},
   "outputs": [
    {
     "data": {
      "text/plain": [
       "TRUE_VALUE  PREDICTION\n",
       "E           1             61\n",
       "            4             18\n",
       "            0             16\n",
       "            3              7\n",
       "            2              6\n",
       "dtype: int64"
      ]
     },
     "execution_count": 222,
     "metadata": {},
     "output_type": "execute_result"
    }
   ],
   "source": [
    "df_U.value_counts()"
   ]
  },
  {
   "cell_type": "code",
   "execution_count": 224,
   "id": "2170ee27",
   "metadata": {},
   "outputs": [],
   "source": [
    "preds_labelled = ['I' if elem == 3 else 'A' if elem == 2 else 'E' if elem == 1 else 'O' if elem == 4 else 'U' for elem in preds]"
   ]
  },
  {
   "cell_type": "markdown",
   "id": "ac1e32f5",
   "metadata": {},
   "source": [
    "### Evaluation of predictions"
   ]
  },
  {
   "cell_type": "code",
   "execution_count": 226,
   "id": "26e418ad",
   "metadata": {},
   "outputs": [
    {
     "name": "stdout",
     "output_type": "stream",
     "text": [
      "              precision    recall  f1-score   support\n",
      "\n",
      "           A       0.88      0.79      0.83       105\n",
      "           E       0.71      0.56      0.63       108\n",
      "           I       0.66      0.72      0.69        92\n",
      "           O       0.45      0.54      0.49       108\n",
      "           U       0.33      0.34      0.34        87\n",
      "\n",
      "    accuracy                           0.60       500\n",
      "   macro avg       0.61      0.59      0.60       500\n",
      "weighted avg       0.61      0.60      0.60       500\n",
      "\n"
     ]
    }
   ],
   "source": [
    "print(metrics.classification_report(y_test, preds_labelled))"
   ]
  },
  {
   "cell_type": "code",
   "execution_count": 231,
   "id": "b460cfcd",
   "metadata": {},
   "outputs": [],
   "source": [
    "cm = confusion_matrix(y_test, preds_labelled, labels=['U', 'E', 'A', 'I', 'O'])"
   ]
  },
  {
   "cell_type": "code",
   "execution_count": 233,
   "id": "81df2a8e",
   "metadata": {},
   "outputs": [],
   "source": [
    "disp = ConfusionMatrixDisplay(confusion_matrix=cm, display_labels=['U', 'E', 'A', 'I', 'O'])"
   ]
  },
  {
   "cell_type": "code",
   "execution_count": 234,
   "id": "5aa9b38d",
   "metadata": {},
   "outputs": [
    {
     "data": {
      "text/plain": [
       "<sklearn.metrics._plot.confusion_matrix.ConfusionMatrixDisplay at 0x7f6bed0faee0>"
      ]
     },
     "execution_count": 234,
     "metadata": {},
     "output_type": "execute_result"
    },
    {
     "data": {
      "image/png": "[encoded data removed]",
      "text/plain": [
       "<Figure size 432x288 with 2 Axes>"
      ]
     },
     "metadata": {
      "needs_background": "light"
     },
     "output_type": "display_data"
    }
   ],
   "source": [
    "disp.plot()"
   ]
  },
  {
   "cell_type": "code",
   "execution_count": null,
   "id": "084121f1",
   "metadata": {},
   "outputs": [],
   "source": []
  },
  {
   "cell_type": "markdown",
   "id": "b2528f20",
   "metadata": {},
   "source": [
    "## KNN algorithm"
   ]
  },
  {
   "cell_type": "code",
   "execution_count": null,
   "id": "d5666bb0",
   "metadata": {},
   "outputs": [],
   "source": []
  },
  {
   "cell_type": "code",
   "execution_count": null,
   "id": "4fb59149",
   "metadata": {},
   "outputs": [],
   "source": []
  },
  {
   "cell_type": "code",
   "execution_count": 235,
   "id": "ad19359a",
   "metadata": {},
   "outputs": [],
   "source": [
    "from sklearn.neighbors import KNeighborsClassifier"
   ]
  },
  {
   "cell_type": "code",
   "execution_count": 237,
   "id": "423e0846",
   "metadata": {},
   "outputs": [],
   "source": [
    "def train_knn(x_train, y_train, x_test, y_test, k=5):\n",
    "    \n",
    "    # MAKE PIPELINE W/ STANDARD SCALER AND KMEANS ESTIMATOR\n",
    "    neigh = KNeighborsClassifier(n_neighbors=k)\n",
    "\n",
    "    \n",
    "    # FIT ON TRAIN DATA\n",
    "    neigh.fit(x_train, y_train)\n",
    "    \n",
    "    # PREDICT ON TEST DATA\n",
    "    preds = neigh.predict(x_test)\n",
    "    \n",
    "    # EVALUATION\n",
    "    print(metrics.classification_report(y_test, preds))\n",
    "\n",
    "    return neigh, preds"
   ]
  },
  {
   "cell_type": "code",
   "execution_count": 238,
   "id": "0a641561",
   "metadata": {},
   "outputs": [
    {
     "name": "stdout",
     "output_type": "stream",
     "text": [
      "              precision    recall  f1-score   support\n",
      "\n",
      "           A       1.00      0.98      0.99       105\n",
      "           E       0.97      0.96      0.97       108\n",
      "           I       0.96      0.98      0.97        92\n",
      "           O       0.95      0.98      0.97       108\n",
      "           U       0.98      0.95      0.97        87\n",
      "\n",
      "    accuracy                           0.97       500\n",
      "   macro avg       0.97      0.97      0.97       500\n",
      "weighted avg       0.97      0.97      0.97       500\n",
      "\n"
     ]
    }
   ],
   "source": [
    "neigh, preds = train_knn(x_train, y_train, x_test, y_test)"
   ]
  },
  {
   "cell_type": "code",
   "execution_count": null,
   "id": "55a7f68a",
   "metadata": {},
   "outputs": [],
   "source": []
  },
  {
   "cell_type": "code",
   "execution_count": 239,
   "id": "030b664e",
   "metadata": {},
   "outputs": [],
   "source": [
    "cm = confusion_matrix(y_test, preds)"
   ]
  },
  {
   "cell_type": "code",
   "execution_count": 240,
   "id": "64fb0638",
   "metadata": {},
   "outputs": [],
   "source": [
    "disp = ConfusionMatrixDisplay(confusion_matrix=cm)"
   ]
  },
  {
   "cell_type": "code",
   "execution_count": 241,
   "id": "63769bf2",
   "metadata": {},
   "outputs": [
    {
     "data": {
      "text/plain": [
       "<sklearn.metrics._plot.confusion_matrix.ConfusionMatrixDisplay at 0x7f6c14503fd0>"
      ]
     },
     "execution_count": 241,
     "metadata": {},
     "output_type": "execute_result"
    },
    {
     "data": {
      "image/png": "[encoded data removed]",
      "text/plain": [
       "<Figure size 432x288 with 2 Axes>"
      ]
     },
     "metadata": {
      "needs_background": "light"
     },
     "output_type": "display_data"
    }
   ],
   "source": [
    "disp.plot()"
   ]
  },
  {
   "cell_type": "code",
   "execution_count": null,
   "id": "a9df06c0",
   "metadata": {},
   "outputs": [],
   "source": []
  },
  {
   "cell_type": "code",
   "execution_count": null,
   "id": "76fd2d16",
   "metadata": {},
   "outputs": [],
   "source": []
  },
  {
   "cell_type": "code",
   "execution_count": null,
   "id": "f3956043",
   "metadata": {},
   "outputs": [],
   "source": []
  },
  {
   "cell_type": "code",
   "execution_count": null,
   "id": "70c0a539",
   "metadata": {},
   "outputs": [],
   "source": []
  }
 ],
 "metadata": {
  "kernelspec": {
   "display_name": "Python 3",
   "language": "python",
   "name": "python3"
  },
  "language_info": {
   "codemirror_mode": {
    "name": "ipython",
    "version": 3
   },
   "file_extension": ".py",
   "mimetype": "text/x-python",
   "name": "python",
   "nbconvert_exporter": "python",
   "pygments_lexer": "ipython3",
   "version": "3.8.8"
  }
 },
 "nbformat": 4,
 "nbformat_minor": 5
}
