{
 "cells": [
  {
   "cell_type": "code",
   "execution_count": 1,
   "id": "9da1e78d",
   "metadata": {},
   "outputs": [],
   "source": [
    "import numpy as np\n",
    "import os\n",
    "import matplotlib.pyplot as plt\n",
    "import random\n",
    "import pandas as pd"
   ]
  },
  {
   "cell_type": "markdown",
   "id": "e80dd43e",
   "metadata": {},
   "source": [
    "## Import Digits"
   ]
  },
  {
   "cell_type": "markdown",
   "id": "f8f4ee69",
   "metadata": {},
   "source": [
    "### Load labels train & test"
   ]
  },
  {
   "cell_type": "code",
   "execution_count": 2,
   "id": "767dca5b",
   "metadata": {},
   "outputs": [],
   "source": [
    "y_train = np.loadtxt(\"../train_labels.txt\",dtype=str)\n",
    "y_test = np.loadtxt(\"../test_labels.txt\",dtype=str)"
   ]
  },
  {
   "cell_type": "markdown",
   "id": "15a8cda9",
   "metadata": {},
   "source": [
    "### Load data train & test"
   ]
  },
  {
   "cell_type": "code",
   "execution_count": 3,
   "id": "355f41ff",
   "metadata": {},
   "outputs": [],
   "source": [
    "filenames_train = [x for x in os.listdir(\"../train_voyelles\") if x[0]==\"v\"]\n",
    "filenames_train.sort()\n",
    "filenames_test = [x for x in os.listdir(\"../test_voyelles\") if x[0]==\"v\"]\n",
    "filenames_test.sort()"
   ]
  },
  {
   "cell_type": "code",
   "execution_count": 4,
   "id": "192729b4",
   "metadata": {},
   "outputs": [],
   "source": [
    "x_train = []\n",
    "for f in filenames_train:\n",
    "  input = np.loadtxt(\"../train_voyelles/\"+f, dtype='i', delimiter='\\t')\n",
    "  x_train.append(input)\n",
    "x_train = np.asarray(x_train)"
   ]
  },
  {
   "cell_type": "code",
   "execution_count": 5,
   "id": "19bc308f",
   "metadata": {},
   "outputs": [],
   "source": [
    "x_test = []\n",
    "for f in filenames_test:\n",
    "  input = np.loadtxt(\"../test_voyelles/\"+f, dtype='i', delimiter='\\t')\n",
    "  x_test.append(input)\n",
    "x_test = np.asarray(x_test)"
   ]
  },
  {
   "cell_type": "code",
   "execution_count": 6,
   "id": "9c33a9f3",
   "metadata": {},
   "outputs": [
    {
     "name": "stdout",
     "output_type": "stream",
     "text": [
      "(4500, 18, 18)\n",
      "(4500,)\n",
      "(500, 18, 18)\n",
      "(500,)\n"
     ]
    }
   ],
   "source": [
    "print(x_train.shape)\n",
    "print(y_train.shape)\n",
    "print(x_test.shape)\n",
    "print(y_test.shape)"
   ]
  },
  {
   "cell_type": "code",
   "execution_count": 7,
   "id": "55916c83",
   "metadata": {},
   "outputs": [
    {
     "name": "stdout",
     "output_type": "stream",
     "text": [
      "A: 105\n",
      "E: 108\n",
      "I: 92\n",
      "O: 108\n",
      "U: 87\n"
     ]
    }
   ],
   "source": [
    "for v in ['A','E','I','O','U']:\n",
    "  print(v+\": \"+str(np.sum(y_test==v)))"
   ]
  },
  {
   "cell_type": "code",
   "execution_count": 8,
   "id": "10e00151",
   "metadata": {},
   "outputs": [
    {
     "name": "stdout",
     "output_type": "stream",
     "text": [
      "E\n"
     ]
    },
    {
     "data": {
      "image/png": "[encoded data removed]",
      "text/plain": [
       "<Figure size 432x288 with 1 Axes>"
      ]
     },
     "metadata": {
      "needs_background": "light"
     },
     "output_type": "display_data"
    }
   ],
   "source": [
    "id = random.randint(0, len(x_test))\n",
    "plt.imshow(x_test[id],cmap =\"gray\")\n",
    "print(y_test[id])"
   ]
  },
  {
   "cell_type": "code",
   "execution_count": 9,
   "id": "2f0d3f5f",
   "metadata": {},
   "outputs": [
    {
     "name": "stdout",
     "output_type": "stream",
     "text": [
      "I\n"
     ]
    },
    {
     "data": {
      "image/png": "[encoded data removed]",
      "text/plain": [
       "<Figure size 432x288 with 1 Axes>"
      ]
     },
     "metadata": {
      "needs_background": "light"
     },
     "output_type": "display_data"
    }
   ],
   "source": [
    "plt.imshow(x_test[0],cmap =\"gray\")\n",
    "print(y_test[0])"
   ]
  },
  {
   "cell_type": "code",
   "execution_count": null,
   "id": "70b7ad40",
   "metadata": {},
   "outputs": [],
   "source": []
  },
  {
   "cell_type": "code",
   "execution_count": null,
   "id": "d2e2556b",
   "metadata": {},
   "outputs": [],
   "source": []
  },
  {
   "cell_type": "markdown",
   "id": "eea07cb0",
   "metadata": {},
   "source": [
    "### Reshape Train and test data for sklearn estimator"
   ]
  },
  {
   "cell_type": "code",
   "execution_count": 10,
   "id": "754f3794",
   "metadata": {},
   "outputs": [],
   "source": [
    "x_train = x_train.reshape(x_train.shape[0], -1)"
   ]
  },
  {
   "cell_type": "code",
   "execution_count": 11,
   "id": "40703856",
   "metadata": {},
   "outputs": [],
   "source": [
    "x_test = x_test.reshape(x_test.shape[0], -1)"
   ]
  },
  {
   "cell_type": "code",
   "execution_count": 12,
   "id": "459792a5",
   "metadata": {},
   "outputs": [
    {
     "data": {
      "text/plain": [
       "(4500, 324)"
      ]
     },
     "execution_count": 12,
     "metadata": {},
     "output_type": "execute_result"
    }
   ],
   "source": [
    "x_train.shape"
   ]
  },
  {
   "cell_type": "code",
   "execution_count": 13,
   "id": "bf3b1f5f",
   "metadata": {},
   "outputs": [],
   "source": [
    "from sklearn.cluster import KMeans\n",
    "from sklearn import metrics\n",
    "from sklearn.pipeline import make_pipeline\n",
    "from sklearn.preprocessing import StandardScaler\n",
    "from sklearn.cluster import KMeans\n",
    "from sklearn.metrics import homogeneity_score\n",
    "from sklearn.metrics import silhouette_score\n",
    "from sklearn.metrics import confusion_matrix, ConfusionMatrixDisplay"
   ]
  },
  {
   "cell_type": "code",
   "execution_count": 14,
   "id": "887e9cd5",
   "metadata": {},
   "outputs": [],
   "source": [
    "def train_kmeans(x_train, y_train, x_test, y_test, k=5):\n",
    "    \n",
    "    # KMEANS ESTIMATOR\n",
    "    kmeans = KMeans(n_clusters=k)\n",
    "    \n",
    "    # FIT ON TRAIN DATA\n",
    "    kmeans.fit(x_train, y_train)\n",
    "    \n",
    "    # PREDICT ON TEST DATA\n",
    "    preds = kmeans.predict(x_test)\n",
    "    \n",
    "    # EVALUATION\n",
    "    score1 = silhouette_score(x_train, y_train)\n",
    "    print(\"Silhouette Score : \", score1)\n",
    "    score2 = homogeneity_score(y_test, preds)\n",
    "    print(\"Homogeneity Score : \", score2)\n",
    "    \n",
    "    return kmeans, preds\n"
   ]
  },
  {
   "cell_type": "code",
   "execution_count": null,
   "id": "ace4e8d5",
   "metadata": {},
   "outputs": [],
   "source": []
  },
  {
   "cell_type": "code",
   "execution_count": 15,
   "id": "17ff2d78",
   "metadata": {
    "scrolled": true
   },
   "outputs": [
    {
     "name": "stderr",
     "output_type": "stream",
     "text": [
      "Exception ignored on calling ctypes callback function: <function _ThreadpoolInfo._find_modules_with_dl_iterate_phdr.<locals>.match_module_callback at 0x7f2d0789eaf0>\n",
      "Traceback (most recent call last):\n",
      "  File \"/home/humanum/anaconda3/lib/python3.8/site-packages/threadpoolctl.py\", line 400, in match_module_callback\n",
      "    self._make_module_from_path(filepath)\n",
      "  File \"/home/humanum/anaconda3/lib/python3.8/site-packages/threadpoolctl.py\", line 515, in _make_module_from_path\n",
      "    module = module_class(filepath, prefix, user_api, internal_api)\n",
      "  File \"/home/humanum/anaconda3/lib/python3.8/site-packages/threadpoolctl.py\", line 606, in __init__\n",
      "    self.version = self.get_version()\n",
      "  File \"/home/humanum/anaconda3/lib/python3.8/site-packages/threadpoolctl.py\", line 646, in get_version\n",
      "    config = get_config().split()\n",
      "AttributeError: 'NoneType' object has no attribute 'split'\n"
     ]
    },
    {
     "name": "stdout",
     "output_type": "stream",
     "text": [
      "Silhouette Score :  0.05606698128902493\n",
      "Homogeneity Score :  0.36118686953313606\n"
     ]
    }
   ],
   "source": [
    "# Warning but still working so we keep it as it is\n",
    "kmeans, preds = train_kmeans(x_train, y_train, x_test, y_test)"
   ]
  },
  {
   "cell_type": "code",
   "execution_count": 16,
   "id": "01bb4733",
   "metadata": {},
   "outputs": [
    {
     "data": {
      "text/plain": [
       "array([[254.59195402, 254.38362069, 254.40373563, ..., 254.98706897,\n",
       "        254.99137931, 255.        ],\n",
       "       [254.52862595, 254.16125954, 253.82824427, ..., 254.27958015,\n",
       "        254.61450382, 254.82919847],\n",
       "       [255.        , 254.99838449, 254.99434572, ..., 254.91680129,\n",
       "        254.98061389, 254.99353796],\n",
       "       [254.05849582, 253.29108635, 250.99442897, ..., 252.9275766 ,\n",
       "        254.14902507, 254.61559889],\n",
       "       [254.99      , 254.99      , 254.945     , ..., 254.735     ,\n",
       "        254.8175    , 254.8875    ]])"
      ]
     },
     "execution_count": 16,
     "metadata": {},
     "output_type": "execute_result"
    }
   ],
   "source": [
    "kmeans.cluster_centers_"
   ]
  },
  {
   "cell_type": "code",
   "execution_count": 17,
   "id": "88774817",
   "metadata": {},
   "outputs": [
    {
     "data": {
      "text/plain": [
       "array([1, 2, 0, ..., 1, 3, 2], dtype=int32)"
      ]
     },
     "execution_count": 17,
     "metadata": {},
     "output_type": "execute_result"
    }
   ],
   "source": [
    "kmeans.labels_"
   ]
  },
  {
   "cell_type": "code",
   "execution_count": 18,
   "id": "f318c87d",
   "metadata": {},
   "outputs": [],
   "source": [
    "y_test = list(y_test)"
   ]
  },
  {
   "cell_type": "code",
   "execution_count": 19,
   "id": "7321848c",
   "metadata": {},
   "outputs": [],
   "source": [
    "y_preds = list(preds)"
   ]
  },
  {
   "cell_type": "code",
   "execution_count": 20,
   "id": "1d6085e7",
   "metadata": {},
   "outputs": [],
   "source": [
    "zipped = list(zip(y_test, y_preds))\n",
    "df = pd.DataFrame(zipped, columns=['TRUE_VALUE', 'PREDICTION'])"
   ]
  },
  {
   "cell_type": "code",
   "execution_count": 30,
   "id": "a7055fe4",
   "metadata": {},
   "outputs": [],
   "source": [
    "df_test = df[df['TRUE_VALUE'] == 'I']\n",
    "df_test.value_counts()"
   ]
  },
  {
   "cell_type": "code",
   "execution_count": 32,
   "id": "744fe88f",
   "metadata": {},
   "outputs": [],
   "source": [
    "#/!\\ les valeurs peuvent changer de place lorsque l on relance le notebook, il faut alors modifier l etiquette associée à chaque élément\n",
    "preds_labelled = ['A' if elem == 4 else 'I' if elem == 1 else 'E' if elem == 0 else 'O' if elem == 2 else 'U' for elem in preds]"
   ]
  },
  {
   "cell_type": "markdown",
   "id": "bd026be0",
   "metadata": {},
   "source": [
    "### Evaluation of predictions"
   ]
  },
  {
   "cell_type": "code",
   "execution_count": 33,
   "id": "388ae6cb",
   "metadata": {},
   "outputs": [
    {
     "name": "stdout",
     "output_type": "stream",
     "text": [
      "              precision    recall  f1-score   support\n",
      "\n",
      "           A       0.89      0.81      0.85       105\n",
      "           E       0.70      0.56      0.63       108\n",
      "           I       0.66      0.72      0.69        92\n",
      "           O       0.45      0.54      0.49       108\n",
      "           U       0.34      0.34      0.34        87\n",
      "\n",
      "    accuracy                           0.60       500\n",
      "   macro avg       0.61      0.59      0.60       500\n",
      "weighted avg       0.62      0.60      0.60       500\n",
      "\n"
     ]
    }
   ],
   "source": [
    "print(metrics.classification_report(y_test, preds_labelled))"
   ]
  },
  {
   "cell_type": "code",
   "execution_count": 34,
   "id": "0affdb1a",
   "metadata": {},
   "outputs": [],
   "source": [
    "cm = confusion_matrix(y_test, preds_labelled, labels=['U', 'E', 'A', 'I', 'O'])"
   ]
  },
  {
   "cell_type": "code",
   "execution_count": 35,
   "id": "c5dafa10",
   "metadata": {},
   "outputs": [],
   "source": [
    "disp = ConfusionMatrixDisplay(confusion_matrix=cm, display_labels=['U', 'E', 'A', 'I', 'O'])"
   ]
  },
  {
   "cell_type": "code",
   "execution_count": 36,
   "id": "8a4211b5",
   "metadata": {},
   "outputs": [
    {
     "data": {
      "text/plain": [
       "<sklearn.metrics._plot.confusion_matrix.ConfusionMatrixDisplay at 0x7f2d2cc0b700>"
      ]
     },
     "execution_count": 36,
     "metadata": {},
     "output_type": "execute_result"
    },
    {
     "data": {
      "image/png": "[encoded data removed]",
      "text/plain": [
       "<Figure size 432x288 with 2 Axes>"
      ]
     },
     "metadata": {
      "needs_background": "light"
     },
     "output_type": "display_data"
    }
   ],
   "source": [
    "disp.plot()"
   ]
  },
  {
   "cell_type": "markdown",
   "id": "ca5823e3",
   "metadata": {},
   "source": [
    "### Get errors"
   ]
  },
  {
   "cell_type": "markdown",
   "id": "e4342c98",
   "metadata": {},
   "source": [
    "#### /!\\ Il faut rerun la cellule du load images x_test pour avoir les bonnes dimensions"
   ]
  },
  {
   "cell_type": "code",
   "execution_count": 40,
   "id": "90016331",
   "metadata": {},
   "outputs": [],
   "source": [
    "def get_error(y_test, preds):\n",
    "    list_indice_errors = []\n",
    "    for i in range(0, len(y_test)):\n",
    "        if y_test[i] != preds[i]:\n",
    "            list_indice_errors.append(i)\n",
    "    return list_indice_errors"
   ]
  },
  {
   "cell_type": "code",
   "execution_count": 41,
   "id": "b2619267",
   "metadata": {},
   "outputs": [],
   "source": [
    "list_indice_errors = get_error(y_test, preds_labelled)"
   ]
  },
  {
   "cell_type": "code",
   "execution_count": 43,
   "id": "009faf3e",
   "metadata": {},
   "outputs": [
    {
     "data": {
      "text/plain": [
       "[5, 8]"
      ]
     },
     "execution_count": 43,
     "metadata": {},
     "output_type": "execute_result"
    }
   ],
   "source": [
    "list_indice_errors[:2]"
   ]
  },
  {
   "cell_type": "code",
   "execution_count": 50,
   "id": "854c88ee",
   "metadata": {},
   "outputs": [
    {
     "name": "stdout",
     "output_type": "stream",
     "text": [
      "ERROR :\n",
      "TRUE VALUE :  U\n",
      "PREDICTION:  O\n"
     ]
    },
    {
     "data": {
      "image/png": "[encoded data removed]",
      "text/plain": [
       "<Figure size 432x288 with 1 Axes>"
      ]
     },
     "metadata": {
      "needs_background": "light"
     },
     "output_type": "display_data"
    }
   ],
   "source": [
    "print(\"ERROR :\")\n",
    "plt.imshow(x_test[5],cmap =\"gray\")\n",
    "print(\"TRUE VALUE : \", y_test[5])\n",
    "print(\"PREDICTION: \", preds_labelled[5])"
   ]
  },
  {
   "cell_type": "code",
   "execution_count": 51,
   "id": "93042466",
   "metadata": {},
   "outputs": [
    {
     "name": "stdout",
     "output_type": "stream",
     "text": [
      "ERROR :\n",
      "TRUE VALUE :  E\n",
      "PREDICTION:  O\n"
     ]
    },
    {
     "data": {
      "image/png": "[encoded data removed]",
      "text/plain": [
       "<Figure size 432x288 with 1 Axes>"
      ]
     },
     "metadata": {
      "needs_background": "light"
     },
     "output_type": "display_data"
    }
   ],
   "source": [
    "print(\"ERROR :\")\n",
    "plt.imshow(x_test[8],cmap =\"gray\")\n",
    "print(\"TRUE VALUE : \", y_test[8])\n",
    "print(\"PREDICTION: \", preds_labelled[8])"
   ]
  },
  {
   "cell_type": "code",
   "execution_count": 67,
   "id": "a2c95622",
   "metadata": {},
   "outputs": [
    {
     "name": "stdout",
     "output_type": "stream",
     "text": [
      "ERROR :\n",
      "TRUE VALUE :  I\n",
      "PREDICTION:  E\n"
     ]
    },
    {
     "data": {
      "image/png": "[encoded data removed]",
      "text/plain": [
       "<Figure size 432x288 with 1 Axes>"
      ]
     },
     "metadata": {
      "needs_background": "light"
     },
     "output_type": "display_data"
    }
   ],
   "source": [
    "print(\"ERROR :\")\n",
    "plt.imshow(x_test[12],cmap =\"gray\")\n",
    "print(\"TRUE VALUE : \", y_test[12])\n",
    "print(\"PREDICTION: \", preds_labelled[12])"
   ]
  },
  {
   "cell_type": "markdown",
   "id": "33bfa1f5",
   "metadata": {},
   "source": [
    "## KNN algorithm"
   ]
  },
  {
   "cell_type": "code",
   "execution_count": null,
   "id": "b774b35b",
   "metadata": {},
   "outputs": [],
   "source": []
  },
  {
   "cell_type": "code",
   "execution_count": null,
   "id": "72c0fdb0",
   "metadata": {},
   "outputs": [],
   "source": []
  },
  {
   "cell_type": "code",
   "execution_count": 37,
   "id": "c9d8b918",
   "metadata": {},
   "outputs": [],
   "source": [
    "from sklearn.neighbors import KNeighborsClassifier"
   ]
  },
  {
   "cell_type": "code",
   "execution_count": 38,
   "id": "23e1cdc6",
   "metadata": {},
   "outputs": [],
   "source": [
    "def train_knn(x_train, y_train, x_test, y_test, k=5):\n",
    "    \n",
    "    # KN ESTIMATOR\n",
    "    neigh = KNeighborsClassifier(n_neighbors=k)\n",
    "\n",
    "    \n",
    "    # FIT ON TRAIN DATA\n",
    "    neigh.fit(x_train, y_train)\n",
    "    \n",
    "    # PREDICT ON TEST DATA\n",
    "    preds = neigh.predict(x_test)\n",
    "    \n",
    "    # EVALUATION\n",
    "    print(metrics.classification_report(y_test, preds))\n",
    "\n",
    "    return neigh, preds"
   ]
  },
  {
   "cell_type": "code",
   "execution_count": 40,
   "id": "dcbd1ab9",
   "metadata": {},
   "outputs": [
    {
     "name": "stdout",
     "output_type": "stream",
     "text": [
      "              precision    recall  f1-score   support\n",
      "\n",
      "           A       1.00      0.98      0.99       105\n",
      "           E       0.97      0.96      0.97       108\n",
      "           I       0.96      0.98      0.97        92\n",
      "           O       0.95      0.98      0.97       108\n",
      "           U       0.98      0.95      0.97        87\n",
      "\n",
      "    accuracy                           0.97       500\n",
      "   macro avg       0.97      0.97      0.97       500\n",
      "weighted avg       0.97      0.97      0.97       500\n",
      "\n"
     ]
    }
   ],
   "source": [
    "neigh, preds = train_knn(x_train, y_train, x_test, y_test)"
   ]
  },
  {
   "cell_type": "code",
   "execution_count": null,
   "id": "4bb6645c",
   "metadata": {},
   "outputs": [],
   "source": []
  },
  {
   "cell_type": "code",
   "execution_count": 41,
   "id": "496abf03",
   "metadata": {},
   "outputs": [],
   "source": [
    "cm = confusion_matrix(y_test, preds, labels=['U', 'E', 'A', 'I', 'O'])"
   ]
  },
  {
   "cell_type": "code",
   "execution_count": 42,
   "id": "da966e8d",
   "metadata": {},
   "outputs": [],
   "source": [
    "disp = ConfusionMatrixDisplay(confusion_matrix=cm, display_labels=['U', 'E', 'A', 'I', 'O'])"
   ]
  },
  {
   "cell_type": "code",
   "execution_count": 43,
   "id": "b940a152",
   "metadata": {
    "scrolled": true
   },
   "outputs": [
    {
     "data": {
      "text/plain": [
       "<sklearn.metrics._plot.confusion_matrix.ConfusionMatrixDisplay at 0x7f2d09f8e3d0>"
      ]
     },
     "execution_count": 43,
     "metadata": {},
     "output_type": "execute_result"
    },
    {
     "data": {
      "image/png": "[encoded data removed]",
      "text/plain": [
       "<Figure size 432x288 with 2 Axes>"
      ]
     },
     "metadata": {
      "needs_background": "light"
     },
     "output_type": "display_data"
    }
   ],
   "source": [
    "disp.plot()"
   ]
  },
  {
   "cell_type": "code",
   "execution_count": 46,
   "id": "2592c2d1",
   "metadata": {},
   "outputs": [
    {
     "data": {
      "text/plain": [
       "TRUE_VALUE  PREDICTION\n",
       "O           2             58\n",
       "            3             31\n",
       "            1             12\n",
       "            0              6\n",
       "            4              1\n",
       "dtype: int64"
      ]
     },
     "execution_count": 46,
     "metadata": {},
     "output_type": "execute_result"
    }
   ],
   "source": [
    "df_test = df[df['TRUE_VALUE'] == 'O']\n",
    "df_test.value_counts()"
   ]
  },
  {
   "cell_type": "markdown",
   "id": "8f9c298b",
   "metadata": {},
   "source": [
    "### Get errors"
   ]
  },
  {
   "cell_type": "markdown",
   "id": "fbd1da2e",
   "metadata": {},
   "source": [
    "#### /!\\ Il faut rerun la cellule du load images x_test pour avoir les bonnes dimensions"
   ]
  },
  {
   "cell_type": "code",
   "execution_count": 62,
   "id": "410ec2d4",
   "metadata": {},
   "outputs": [],
   "source": [
    "list_indice_errors = get_error(y_test, preds)"
   ]
  },
  {
   "cell_type": "code",
   "execution_count": 63,
   "id": "aca84229",
   "metadata": {},
   "outputs": [
    {
     "data": {
      "text/plain": [
       "[12, 64, 124, 145, 163, 331, 338, 372, 375, 411, 413, 479, 480, 483]"
      ]
     },
     "execution_count": 63,
     "metadata": {},
     "output_type": "execute_result"
    }
   ],
   "source": [
    "list_indice_errors"
   ]
  },
  {
   "cell_type": "code",
   "execution_count": 72,
   "id": "eb240f71",
   "metadata": {},
   "outputs": [
    {
     "name": "stdout",
     "output_type": "stream",
     "text": [
      "NO ERROR :\n",
      "TRUE VALUE :  U\n",
      "PREDICTION:  U\n"
     ]
    },
    {
     "data": {
      "image/png": "[encoded data removed]",
      "text/plain": [
       "<Figure size 432x288 with 1 Axes>"
      ]
     },
     "metadata": {
      "needs_background": "light"
     },
     "output_type": "display_data"
    }
   ],
   "source": [
    "print(\"NO ERROR :\")\n",
    "plt.imshow(x_test[5],cmap =\"gray\")\n",
    "print(\"TRUE VALUE : \", y_test[5])\n",
    "print(\"PREDICTION: \", preds[5])"
   ]
  },
  {
   "cell_type": "code",
   "execution_count": 70,
   "id": "f49a42b2",
   "metadata": {},
   "outputs": [
    {
     "name": "stdout",
     "output_type": "stream",
     "text": [
      "NO ERROR :\n",
      "TRUE VALUE :  E\n",
      "PREDICTION:  E\n"
     ]
    },
    {
     "data": {
      "image/png": "[encoded data removed]",
      "text/plain": [
       "<Figure size 432x288 with 1 Axes>"
      ]
     },
     "metadata": {
      "needs_background": "light"
     },
     "output_type": "display_data"
    }
   ],
   "source": [
    "print(\"NO ERROR :\")\n",
    "plt.imshow(x_test[8],cmap =\"gray\")\n",
    "print(\"TRUE VALUE : \", y_test[8])\n",
    "print(\"PREDICTION: \", preds[8])"
   ]
  },
  {
   "cell_type": "code",
   "execution_count": 71,
   "id": "dd66e3ff",
   "metadata": {},
   "outputs": [
    {
     "name": "stdout",
     "output_type": "stream",
     "text": [
      "ERROR :\n",
      "TRUE VALUE :  I\n",
      "PREDICTION:  U\n"
     ]
    },
    {
     "data": {
      "image/png": "[encoded data removed]",
      "text/plain": [
       "<Figure size 432x288 with 1 Axes>"
      ]
     },
     "metadata": {
      "needs_background": "light"
     },
     "output_type": "display_data"
    }
   ],
   "source": [
    "print(\"ERROR :\")\n",
    "plt.imshow(x_test[12],cmap =\"gray\")\n",
    "print(\"TRUE VALUE : \", y_test[12])\n",
    "print(\"PREDICTION: \", preds[12])"
   ]
  },
  {
   "cell_type": "code",
   "execution_count": null,
   "id": "2227e793",
   "metadata": {},
   "outputs": [],
   "source": []
  }
 ],
 "metadata": {
  "kernelspec": {
   "display_name": "Python 3",
   "language": "python",
   "name": "python3"
  },
  "language_info": {
   "codemirror_mode": {
    "name": "ipython",
    "version": 3
   },
   "file_extension": ".py",
   "mimetype": "text/x-python",
   "name": "python",
   "nbconvert_exporter": "python",
   "pygments_lexer": "ipython3",
   "version": "3.8.8"
  }
 },
 "nbformat": 4,
 "nbformat_minor": 5
}
